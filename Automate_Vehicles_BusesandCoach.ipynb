{
 "cells": [
  {
   "cell_type": "markdown",
   "metadata": {},
   "source": [
    "# Vehicles file automation - Buses and Coaches"
   ]
  },
  {
   "cell_type": "code",
   "execution_count": 3,
   "metadata": {},
   "outputs": [],
   "source": [
    "import os\n",
    "import pandas as pd\n",
    "\n",
    "currdir=os.getcwd()\n",
    "\n",
    "outpath = currdir + \"\\\\\" + \"Out_files\"\n",
    "\n",
    "#Create output directory\n",
    "if not os.path.isdir(outpath):\n",
    "    os.mkdir(outpath)\n",
    "\n",
    "\n",
    "folder=\"input_files\"\n",
    "lookupfile = \"lookup.xlsx\"\n",
    "\n",
    "folderpath = os.path.join(currdir, folder)\n",
    "\n",
    "#Get lookup dataframe that is to be copied in all files\n",
    "dflookup = pd.read_excel(currdir +  \"\\\\\" + lookupfile,header=0)\n"
   ]
  },
  {
   "cell_type": "code",
   "execution_count": 4,
   "metadata": {},
   "outputs": [],
   "source": [
    "#Loop thorugh the file, split the worksheets to seperate files\n",
    "for file in os.listdir(folderpath):\n",
    "    \n",
    "    #Spilit the sheets into individual files\n",
    "    currfile = pd.ExcelFile(folderpath + '\\\\' + file)\n",
    "\n",
    "    name = file[0:-5]\n",
    "\n",
    "    for sheet in currfile.sheet_names:\n",
    "        df = pd.read_excel(currfile,sheet_name=sheet)\n",
    "        df.to_excel(outpath + '\\\\' + name + f\" {sheet}.xls\",index=False)"
   ]
  },
  {
   "cell_type": "code",
   "execution_count": 7,
   "metadata": {},
   "outputs": [
    {
     "name": "stderr",
     "output_type": "stream",
     "text": [
      "<ipython-input-7-4595179331ee>:15: SettingWithCopyWarning: \n",
      "A value is trying to be set on a copy of a slice from a DataFrame\n",
      "\n",
      "See the caveats in the documentation: https://pandas.pydata.org/pandas-docs/stable/user_guide/indexing.html#returning-a-view-versus-a-copy\n",
      "  dfnew[col][0] = \"Not Specified\"\n"
     ]
    }
   ],
   "source": [
    "finalpath = currdir + \"\\\\\" + \"finalfiles\"\n",
    "#Create output directory\n",
    "if not os.path.isdir(finalpath):\n",
    "    os.mkdir(finalpath)\n",
    "\n",
    "#Copy the lookup to every file & split breadcrumbs\n",
    "for outfile in os.listdir(outpath):\n",
    "    dfall = pd.read_excel(outpath +  \"\\\\\" + outfile)\n",
    "\n",
    "    #Columns specific to products\n",
    "    dfnew = dfall.iloc[:,0:4]\n",
    "    #Change Unlisted to 'not specified'\n",
    "    for col in dfnew.columns:\n",
    "        if str(dfnew[col][0]).strip() == \"Unlisted\":\n",
    "            dfnew[col][0] = \"Not Specified\"\n",
    "        if dfnew.columns.get_loc(col) != 0:\n",
    "            if str(dfnew[col][0]).strip() == \"\":\n",
    "                dfnew[col][0] = \"Not Specified\"\n",
    "            \n",
    "    #Concat\n",
    "    dffinal = pd.concat([dfnew,dflookup],axis=1)\n",
    "    \n",
    "    dffinal.to_excel(finalpath + \"\\\\\" + outfile ,index=False)    "
   ]
  },
  {
   "cell_type": "code",
   "execution_count": 5,
   "metadata": {},
   "outputs": [
    {
     "ename": "AttributeError",
     "evalue": "'numpy.float64' object has no attribute 'strip'",
     "output_type": "error",
     "traceback": [
      "\u001b[1;31m---------------------------------------------------------------------------\u001b[0m",
      "\u001b[1;31mAttributeError\u001b[0m                            Traceback (most recent call last)",
      "\u001b[1;32m<ipython-input-5-9e441ebe7cee>\u001b[0m in \u001b[0;36m<module>\u001b[1;34m\u001b[0m\n\u001b[0;32m     12\u001b[0m \u001b[1;31m#Change Unlisted to 'not specified'\u001b[0m\u001b[1;33m\u001b[0m\u001b[1;33m\u001b[0m\u001b[1;33m\u001b[0m\u001b[0m\n\u001b[0;32m     13\u001b[0m \u001b[1;32mfor\u001b[0m \u001b[0mcol\u001b[0m \u001b[1;32min\u001b[0m \u001b[0mdfnew\u001b[0m\u001b[1;33m.\u001b[0m\u001b[0mcolumns\u001b[0m\u001b[1;33m:\u001b[0m\u001b[1;33m\u001b[0m\u001b[1;33m\u001b[0m\u001b[0m\n\u001b[1;32m---> 14\u001b[1;33m     \u001b[1;32mif\u001b[0m \u001b[0mdfnew\u001b[0m\u001b[1;33m[\u001b[0m\u001b[0mcol\u001b[0m\u001b[1;33m]\u001b[0m\u001b[1;33m[\u001b[0m\u001b[1;36m0\u001b[0m\u001b[1;33m]\u001b[0m\u001b[1;33m.\u001b[0m\u001b[0mstrip\u001b[0m\u001b[1;33m(\u001b[0m\u001b[1;33m)\u001b[0m \u001b[1;33m==\u001b[0m \u001b[1;34m\"Unlisted\"\u001b[0m\u001b[1;33m:\u001b[0m\u001b[1;33m\u001b[0m\u001b[1;33m\u001b[0m\u001b[0m\n\u001b[0m\u001b[0;32m     15\u001b[0m         \u001b[0mdfnew\u001b[0m\u001b[1;33m[\u001b[0m\u001b[0mcol\u001b[0m\u001b[1;33m]\u001b[0m\u001b[1;33m[\u001b[0m\u001b[1;36m0\u001b[0m\u001b[1;33m]\u001b[0m \u001b[1;33m=\u001b[0m \u001b[1;34m\"Not Specified\"\u001b[0m\u001b[1;33m\u001b[0m\u001b[1;33m\u001b[0m\u001b[0m\n\u001b[0;32m     16\u001b[0m \u001b[1;31m#Concat\u001b[0m\u001b[1;33m\u001b[0m\u001b[1;33m\u001b[0m\u001b[1;33m\u001b[0m\u001b[0m\n",
      "\u001b[1;31mAttributeError\u001b[0m: 'numpy.float64' object has no attribute 'strip'"
     ]
    }
   ],
   "source": [
    "outfile = \"Aixam.xlsx 500.xls\"\n",
    "dfall = pd.read_excel(outpath +  \"\\\\\" + outfile)\n",
    "#Split the breadcrumbs\n",
    "#Get the bc\n",
    "bc = dfall.columns[0]\n",
    "lstbc=[]\n",
    "#Split\n",
    "lstbc = bc.split('>')\n",
    "dfbc=pd.DataFrame(columns=lstbc)\n",
    "#Columns specific to products\n",
    "dfnew = dfall.iloc[:,0:4]\n",
    "#Change Unlisted to 'not specified'\n",
    "for col in dfnew.columns:\n",
    "    if dfnew[col][0].strip() == \"Unlisted\":\n",
    "        dfnew[col][0] = \"Not Specified\"\n",
    "#Concat\n",
    "dffinal = pd.concat([dfbc,dfnew,dflookup],axis=1)\n",
    "dffinal.to_excel(finalpath + \"\\\\\" + outfile ,index=False)    "
   ]
  },
  {
   "cell_type": "code",
   "execution_count": 6,
   "metadata": {},
   "outputs": [
    {
     "data": {
      "text/plain": [
       "'Aixam.xlsx 50'"
      ]
     },
     "execution_count": 6,
     "metadata": {},
     "output_type": "execute_result"
    }
   ],
   "source": [
    "outfile = \"Aixam.xlsx 500.xls\"\n",
    "outfile[0:-5]"
   ]
  },
  {
   "cell_type": "code",
   "execution_count": null,
   "metadata": {},
   "outputs": [],
   "source": []
  }
 ],
 "metadata": {
  "kernelspec": {
   "display_name": "Python 3",
   "language": "python",
   "name": "python3"
  },
  "language_info": {
   "codemirror_mode": {
    "name": "ipython",
    "version": 3
   },
   "file_extension": ".py",
   "mimetype": "text/x-python",
   "name": "python",
   "nbconvert_exporter": "python",
   "pygments_lexer": "ipython3",
   "version": "3.8.3"
  }
 },
 "nbformat": 4,
 "nbformat_minor": 4
}
